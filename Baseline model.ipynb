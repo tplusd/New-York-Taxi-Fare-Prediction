{
  "cells": [
    {
      "metadata": {
        "_uuid": "7c0d34f9d163e75705440ea2bea74e21bdbbcfa2"
      },
      "cell_type": "markdown",
      "source": "## Baseline model : Linear regression\nHere I used a very straightforward and simple linear regression model to provide a baseline for our further training. All the advanced models should have a lower RMSE than the baseline."
    },
    {
      "metadata": {
        "_uuid": "af1fa9090425cf59e375b4a0e7da8d5dffdf9314"
      },
      "cell_type": "markdown",
      "source": "First as usual, I imported all the packages."
    },
    {
      "metadata": {
        "_uuid": "8f2839f25d086af736a60e9eeb907d3b93b6e0e5",
        "_cell_guid": "b1076dfc-b9ad-4769-8c92-a6c4dae69d19",
        "trusted": true
      },
      "cell_type": "code",
      "source": "# This Python 3 environment comes with many helpful analytics libraries installed\n# It is defined by the kaggle/python docker image: https://github.com/kaggle/docker-python\n# For example, here's several helpful packages to load in \n\nimport numpy as np # linear algebra\nimport pandas as pd # data processing, CSV file I/O (e.g. pd.read_csv)\n\n# Input data files are available in the \"../input/\" directory.\n# For example, running this (by clicking run or pressing Shift+Enter) will list the files in the input directory\n\nimport os\nprint(os.listdir(\"../input\"))\n\n# Any results you write to the current directory are saved as output.",
      "execution_count": 18,
      "outputs": [
        {
          "output_type": "stream",
          "text": "['__output__.json', 'finaltrain.csv', '__results___files', 'custom.css', 'finaltest.csv', '__results__.html']\n",
          "name": "stdout"
        }
      ]
    },
    {
      "metadata": {
        "_uuid": "d9a7b391dddc9673a8c6cc14c55098cf2d2cb321"
      },
      "cell_type": "markdown",
      "source": "Read the processed train and test data sets."
    },
    {
      "metadata": {
        "_cell_guid": "79c7e3d0-c299-4dcb-8224-4455121ee9b0",
        "_uuid": "d629ff2d2480ee46fbb7e2d37f6b5fab8052498a",
        "trusted": true
      },
      "cell_type": "code",
      "source": "train=pd.read_csv(\"../input/finaltrain.csv\",index_col=0)\ntrain.head()",
      "execution_count": 19,
      "outputs": [
        {
          "output_type": "stream",
          "text": "/opt/conda/lib/python3.6/site-packages/numpy/lib/arraysetops.py:522: FutureWarning: elementwise comparison failed; returning scalar instead, but in the future will perform elementwise comparison\n  mask |= (ar1 == a)\n",
          "name": "stderr"
        },
        {
          "output_type": "execute_result",
          "execution_count": 19,
          "data": {
            "text/plain": "   fare_amount      pickup_datetime    ...     Distance  fare-bin\n0          4.5  2009-06-15 17:26:21    ...     1.030764    (0, 5]\n1         16.9  2010-01-05 16:52:16    ...     8.450134  (15, 20]\n2          5.7  2011-08-18 00:35:00    ...     1.389525  (05, 10]\n3          7.7  2012-04-21 04:30:42    ...     2.799270  (05, 10]\n4          5.3  2010-03-09 07:51:00    ...     1.999157  (05, 10]\n\n[5 rows x 16 columns]",
            "text/html": "<div>\n<style scoped>\n    .dataframe tbody tr th:only-of-type {\n        vertical-align: middle;\n    }\n\n    .dataframe tbody tr th {\n        vertical-align: top;\n    }\n\n    .dataframe thead th {\n        text-align: right;\n    }\n</style>\n<table border=\"1\" class=\"dataframe\">\n  <thead>\n    <tr style=\"text-align: right;\">\n      <th></th>\n      <th>fare_amount</th>\n      <th>pickup_datetime</th>\n      <th>pickup_longitude</th>\n      <th>pickup_latitude</th>\n      <th>dropoff_longitude</th>\n      <th>dropoff_latitude</th>\n      <th>passenger_count</th>\n      <th>year</th>\n      <th>month</th>\n      <th>day</th>\n      <th>hour</th>\n      <th>weekday</th>\n      <th>direct_lat_diff</th>\n      <th>direct_lon_diff</th>\n      <th>Distance</th>\n      <th>fare-bin</th>\n    </tr>\n  </thead>\n  <tbody>\n    <tr>\n      <th>0</th>\n      <td>4.5</td>\n      <td>2009-06-15 17:26:21</td>\n      <td>-73.844311</td>\n      <td>40.721319</td>\n      <td>-73.841610</td>\n      <td>40.712278</td>\n      <td>1</td>\n      <td>2009</td>\n      <td>6</td>\n      <td>15</td>\n      <td>17</td>\n      <td>0</td>\n      <td>0.009041</td>\n      <td>0.002701</td>\n      <td>1.030764</td>\n      <td>(0, 5]</td>\n    </tr>\n    <tr>\n      <th>1</th>\n      <td>16.9</td>\n      <td>2010-01-05 16:52:16</td>\n      <td>-74.016048</td>\n      <td>40.711303</td>\n      <td>-73.979268</td>\n      <td>40.782004</td>\n      <td>1</td>\n      <td>2010</td>\n      <td>1</td>\n      <td>5</td>\n      <td>16</td>\n      <td>1</td>\n      <td>0.070701</td>\n      <td>0.036780</td>\n      <td>8.450134</td>\n      <td>(15, 20]</td>\n    </tr>\n    <tr>\n      <th>2</th>\n      <td>5.7</td>\n      <td>2011-08-18 00:35:00</td>\n      <td>-73.982738</td>\n      <td>40.761270</td>\n      <td>-73.991242</td>\n      <td>40.750562</td>\n      <td>2</td>\n      <td>2011</td>\n      <td>8</td>\n      <td>18</td>\n      <td>0</td>\n      <td>3</td>\n      <td>0.010708</td>\n      <td>0.008504</td>\n      <td>1.389525</td>\n      <td>(05, 10]</td>\n    </tr>\n    <tr>\n      <th>3</th>\n      <td>7.7</td>\n      <td>2012-04-21 04:30:42</td>\n      <td>-73.987130</td>\n      <td>40.733143</td>\n      <td>-73.991567</td>\n      <td>40.758092</td>\n      <td>1</td>\n      <td>2012</td>\n      <td>4</td>\n      <td>21</td>\n      <td>4</td>\n      <td>5</td>\n      <td>0.024949</td>\n      <td>0.004437</td>\n      <td>2.799270</td>\n      <td>(05, 10]</td>\n    </tr>\n    <tr>\n      <th>4</th>\n      <td>5.3</td>\n      <td>2010-03-09 07:51:00</td>\n      <td>-73.968095</td>\n      <td>40.768008</td>\n      <td>-73.956655</td>\n      <td>40.783762</td>\n      <td>1</td>\n      <td>2010</td>\n      <td>3</td>\n      <td>9</td>\n      <td>7</td>\n      <td>1</td>\n      <td>0.015754</td>\n      <td>0.011440</td>\n      <td>1.999157</td>\n      <td>(05, 10]</td>\n    </tr>\n  </tbody>\n</table>\n</div>"
          },
          "metadata": {}
        }
      ]
    },
    {
      "metadata": {
        "trusted": true,
        "_uuid": "a71857b5e09e6c2cee2da551b08c9accf51b954e"
      },
      "cell_type": "code",
      "source": "test=pd.read_csv(\"../input/finaltest.csv\",index_col=None)\ntest.head()",
      "execution_count": 20,
      "outputs": [
        {
          "output_type": "execute_result",
          "execution_count": 20,
          "data": {
            "text/plain": "                           key      pickup_datetime    ...     weekday  Distance\n0  2015-01-27 13:08:24.0000002  2015-01-27 13:08:24    ...           1  2.323260\n1  2015-01-27 13:08:24.0000003  2015-01-27 13:08:24    ...           1  2.425353\n2  2011-10-08 11:53:44.0000002  2011-10-08 11:53:44    ...           5  0.618628\n3  2012-12-01 21:12:12.0000002  2012-12-01 21:12:12    ...           5  1.961033\n4  2012-12-01 21:12:12.0000003  2012-12-01 21:12:12    ...           5  5.387301\n\n[5 rows x 13 columns]",
            "text/html": "<div>\n<style scoped>\n    .dataframe tbody tr th:only-of-type {\n        vertical-align: middle;\n    }\n\n    .dataframe tbody tr th {\n        vertical-align: top;\n    }\n\n    .dataframe thead th {\n        text-align: right;\n    }\n</style>\n<table border=\"1\" class=\"dataframe\">\n  <thead>\n    <tr style=\"text-align: right;\">\n      <th></th>\n      <th>key</th>\n      <th>pickup_datetime</th>\n      <th>pickup_longitude</th>\n      <th>pickup_latitude</th>\n      <th>dropoff_longitude</th>\n      <th>dropoff_latitude</th>\n      <th>passenger_count</th>\n      <th>year</th>\n      <th>month</th>\n      <th>day</th>\n      <th>hour</th>\n      <th>weekday</th>\n      <th>Distance</th>\n    </tr>\n  </thead>\n  <tbody>\n    <tr>\n      <th>0</th>\n      <td>2015-01-27 13:08:24.0000002</td>\n      <td>2015-01-27 13:08:24</td>\n      <td>-73.973320</td>\n      <td>40.763805</td>\n      <td>-73.981430</td>\n      <td>40.743835</td>\n      <td>1</td>\n      <td>2015</td>\n      <td>1</td>\n      <td>27</td>\n      <td>13</td>\n      <td>1</td>\n      <td>2.323260</td>\n    </tr>\n    <tr>\n      <th>1</th>\n      <td>2015-01-27 13:08:24.0000003</td>\n      <td>2015-01-27 13:08:24</td>\n      <td>-73.986862</td>\n      <td>40.719383</td>\n      <td>-73.998886</td>\n      <td>40.739201</td>\n      <td>1</td>\n      <td>2015</td>\n      <td>1</td>\n      <td>27</td>\n      <td>13</td>\n      <td>1</td>\n      <td>2.425353</td>\n    </tr>\n    <tr>\n      <th>2</th>\n      <td>2011-10-08 11:53:44.0000002</td>\n      <td>2011-10-08 11:53:44</td>\n      <td>-73.982524</td>\n      <td>40.751260</td>\n      <td>-73.979654</td>\n      <td>40.746139</td>\n      <td>1</td>\n      <td>2011</td>\n      <td>10</td>\n      <td>8</td>\n      <td>11</td>\n      <td>5</td>\n      <td>0.618628</td>\n    </tr>\n    <tr>\n      <th>3</th>\n      <td>2012-12-01 21:12:12.0000002</td>\n      <td>2012-12-01 21:12:12</td>\n      <td>-73.981160</td>\n      <td>40.767807</td>\n      <td>-73.990448</td>\n      <td>40.751635</td>\n      <td>1</td>\n      <td>2012</td>\n      <td>12</td>\n      <td>1</td>\n      <td>21</td>\n      <td>5</td>\n      <td>1.961033</td>\n    </tr>\n    <tr>\n      <th>4</th>\n      <td>2012-12-01 21:12:12.0000003</td>\n      <td>2012-12-01 21:12:12</td>\n      <td>-73.966046</td>\n      <td>40.789775</td>\n      <td>-73.988565</td>\n      <td>40.744427</td>\n      <td>1</td>\n      <td>2012</td>\n      <td>12</td>\n      <td>1</td>\n      <td>21</td>\n      <td>5</td>\n      <td>5.387301</td>\n    </tr>\n  </tbody>\n</table>\n</div>"
          },
          "metadata": {}
        }
      ]
    },
    {
      "metadata": {
        "_uuid": "093439c9e4550bb2be087b1b597e8444f43c494c"
      },
      "cell_type": "markdown",
      "source": "Remember in the previous sections, I have already divided the feature 'pickup_datetime' into 5 parts. Thus, we do not need this feature any more. \nSince we already calculated the haversine. The features 'direct_lat_diff' and 'direct_lon_diff' must be highly correlated to the haversine distance. So I also removed these two features to avoid multicolinearity since they provided redundant information. \n'fare_amount' is the target of prediction so I take it aside. Also we need the feature 'key' of the test set as a indentification when we submit the prediction."
    },
    {
      "metadata": {
        "trusted": true,
        "_uuid": "7a367a39966f8fb7a855668804bd86e07b268f70"
      },
      "cell_type": "code",
      "source": "test_key=test['key']\ny_train=train['fare_amount']\nx_train=train.drop(['fare_amount','direct_lat_diff','direct_lon_diff','fare-bin','pickup_datetime'],axis=1)\nx_test=test.drop(['key','pickup_datetime'],axis=1)\nprint(x_test.head(5))\nprint(x_train.head(5))",
      "execution_count": null,
      "outputs": []
    },
    {
      "metadata": {
        "_uuid": "924a3872b8741a0691b2d2dfcad3abb9a062b7ed"
      },
      "cell_type": "markdown",
      "source": "The features 'year','month','day','hour', and 'weekday' are actually categorical features (the number or the absolute value of this number doesn't have any practical meanings). \nSo I created one-hot vectors for those features. \nBesides, in order to avoid the influence from different number scales, I normalized all the other numerical features so that I don't need to worry about \nany biased weight on any features."
    },
    {
      "metadata": {
        "trusted": true,
        "_uuid": "5ec72215762b788450d021feabbccd0b8b52f99b"
      },
      "cell_type": "code",
      "source": "train_test = pd.concat([x_train,x_test],axis=0)\nfor col in ['year','month','day','hour','weekday']:\n    train_test[col] = train_test[col].astype(str)\n\nprint(train_test.dtypes)",
      "execution_count": 21,
      "outputs": [
        {
          "output_type": "stream",
          "text": "pickup_longitude     float64\npickup_latitude      float64\ndropoff_longitude    float64\ndropoff_latitude     float64\npassenger_count        int64\nyear                  object\nmonth                 object\nday                   object\nhour                  object\nweekday               object\nDistance             float64\ndtype: object\n",
          "name": "stdout"
        }
      ]
    },
    {
      "metadata": {
        "trusted": true,
        "_uuid": "01524fb67a30a947b93566f5ef2b12d048e76a75"
      },
      "cell_type": "code",
      "source": "train_test=pd.get_dummies(train_test,prefix=['year','month','day','hour','weekday'],columns=['year','month','day','hour','weekday'])\ntrain_test.head(5)",
      "execution_count": 22,
      "outputs": [
        {
          "output_type": "execute_result",
          "execution_count": 22,
          "data": {
            "text/plain": "   pickup_longitude  pickup_latitude    ...      weekday_5  weekday_6\n0        -73.844311        40.721319    ...              0          0\n1        -74.016048        40.711303    ...              0          0\n2        -73.982738        40.761270    ...              0          0\n3        -73.987130        40.733143    ...              1          0\n4        -73.968095        40.768008    ...              0          0\n\n[5 rows x 87 columns]",
            "text/html": "<div>\n<style scoped>\n    .dataframe tbody tr th:only-of-type {\n        vertical-align: middle;\n    }\n\n    .dataframe tbody tr th {\n        vertical-align: top;\n    }\n\n    .dataframe thead th {\n        text-align: right;\n    }\n</style>\n<table border=\"1\" class=\"dataframe\">\n  <thead>\n    <tr style=\"text-align: right;\">\n      <th></th>\n      <th>pickup_longitude</th>\n      <th>pickup_latitude</th>\n      <th>dropoff_longitude</th>\n      <th>dropoff_latitude</th>\n      <th>passenger_count</th>\n      <th>Distance</th>\n      <th>year_2009</th>\n      <th>year_2010</th>\n      <th>year_2011</th>\n      <th>year_2012</th>\n      <th>year_2013</th>\n      <th>year_2014</th>\n      <th>year_2015</th>\n      <th>month_1</th>\n      <th>month_10</th>\n      <th>month_11</th>\n      <th>month_12</th>\n      <th>month_2</th>\n      <th>month_3</th>\n      <th>month_4</th>\n      <th>month_5</th>\n      <th>month_6</th>\n      <th>month_7</th>\n      <th>month_8</th>\n      <th>month_9</th>\n      <th>day_1</th>\n      <th>day_10</th>\n      <th>day_11</th>\n      <th>day_12</th>\n      <th>day_13</th>\n      <th>day_14</th>\n      <th>day_15</th>\n      <th>day_16</th>\n      <th>day_17</th>\n      <th>day_18</th>\n      <th>day_19</th>\n      <th>day_2</th>\n      <th>day_20</th>\n      <th>day_21</th>\n      <th>day_22</th>\n      <th>...</th>\n      <th>day_3</th>\n      <th>day_30</th>\n      <th>day_31</th>\n      <th>day_4</th>\n      <th>day_5</th>\n      <th>day_6</th>\n      <th>day_7</th>\n      <th>day_8</th>\n      <th>day_9</th>\n      <th>hour_0</th>\n      <th>hour_1</th>\n      <th>hour_10</th>\n      <th>hour_11</th>\n      <th>hour_12</th>\n      <th>hour_13</th>\n      <th>hour_14</th>\n      <th>hour_15</th>\n      <th>hour_16</th>\n      <th>hour_17</th>\n      <th>hour_18</th>\n      <th>hour_19</th>\n      <th>hour_2</th>\n      <th>hour_20</th>\n      <th>hour_21</th>\n      <th>hour_22</th>\n      <th>hour_23</th>\n      <th>hour_3</th>\n      <th>hour_4</th>\n      <th>hour_5</th>\n      <th>hour_6</th>\n      <th>hour_7</th>\n      <th>hour_8</th>\n      <th>hour_9</th>\n      <th>weekday_0</th>\n      <th>weekday_1</th>\n      <th>weekday_2</th>\n      <th>weekday_3</th>\n      <th>weekday_4</th>\n      <th>weekday_5</th>\n      <th>weekday_6</th>\n    </tr>\n  </thead>\n  <tbody>\n    <tr>\n      <th>0</th>\n      <td>-73.844311</td>\n      <td>40.721319</td>\n      <td>-73.841610</td>\n      <td>40.712278</td>\n      <td>1</td>\n      <td>1.030764</td>\n      <td>1</td>\n      <td>0</td>\n      <td>0</td>\n      <td>0</td>\n      <td>0</td>\n      <td>0</td>\n      <td>0</td>\n      <td>0</td>\n      <td>0</td>\n      <td>0</td>\n      <td>0</td>\n      <td>0</td>\n      <td>0</td>\n      <td>0</td>\n      <td>0</td>\n      <td>1</td>\n      <td>0</td>\n      <td>0</td>\n      <td>0</td>\n      <td>0</td>\n      <td>0</td>\n      <td>0</td>\n      <td>0</td>\n      <td>0</td>\n      <td>0</td>\n      <td>1</td>\n      <td>0</td>\n      <td>0</td>\n      <td>0</td>\n      <td>0</td>\n      <td>0</td>\n      <td>0</td>\n      <td>0</td>\n      <td>0</td>\n      <td>...</td>\n      <td>0</td>\n      <td>0</td>\n      <td>0</td>\n      <td>0</td>\n      <td>0</td>\n      <td>0</td>\n      <td>0</td>\n      <td>0</td>\n      <td>0</td>\n      <td>0</td>\n      <td>0</td>\n      <td>0</td>\n      <td>0</td>\n      <td>0</td>\n      <td>0</td>\n      <td>0</td>\n      <td>0</td>\n      <td>0</td>\n      <td>1</td>\n      <td>0</td>\n      <td>0</td>\n      <td>0</td>\n      <td>0</td>\n      <td>0</td>\n      <td>0</td>\n      <td>0</td>\n      <td>0</td>\n      <td>0</td>\n      <td>0</td>\n      <td>0</td>\n      <td>0</td>\n      <td>0</td>\n      <td>0</td>\n      <td>1</td>\n      <td>0</td>\n      <td>0</td>\n      <td>0</td>\n      <td>0</td>\n      <td>0</td>\n      <td>0</td>\n    </tr>\n    <tr>\n      <th>1</th>\n      <td>-74.016048</td>\n      <td>40.711303</td>\n      <td>-73.979268</td>\n      <td>40.782004</td>\n      <td>1</td>\n      <td>8.450134</td>\n      <td>0</td>\n      <td>1</td>\n      <td>0</td>\n      <td>0</td>\n      <td>0</td>\n      <td>0</td>\n      <td>0</td>\n      <td>1</td>\n      <td>0</td>\n      <td>0</td>\n      <td>0</td>\n      <td>0</td>\n      <td>0</td>\n      <td>0</td>\n      <td>0</td>\n      <td>0</td>\n      <td>0</td>\n      <td>0</td>\n      <td>0</td>\n      <td>0</td>\n      <td>0</td>\n      <td>0</td>\n      <td>0</td>\n      <td>0</td>\n      <td>0</td>\n      <td>0</td>\n      <td>0</td>\n      <td>0</td>\n      <td>0</td>\n      <td>0</td>\n      <td>0</td>\n      <td>0</td>\n      <td>0</td>\n      <td>0</td>\n      <td>...</td>\n      <td>0</td>\n      <td>0</td>\n      <td>0</td>\n      <td>0</td>\n      <td>1</td>\n      <td>0</td>\n      <td>0</td>\n      <td>0</td>\n      <td>0</td>\n      <td>0</td>\n      <td>0</td>\n      <td>0</td>\n      <td>0</td>\n      <td>0</td>\n      <td>0</td>\n      <td>0</td>\n      <td>0</td>\n      <td>1</td>\n      <td>0</td>\n      <td>0</td>\n      <td>0</td>\n      <td>0</td>\n      <td>0</td>\n      <td>0</td>\n      <td>0</td>\n      <td>0</td>\n      <td>0</td>\n      <td>0</td>\n      <td>0</td>\n      <td>0</td>\n      <td>0</td>\n      <td>0</td>\n      <td>0</td>\n      <td>0</td>\n      <td>1</td>\n      <td>0</td>\n      <td>0</td>\n      <td>0</td>\n      <td>0</td>\n      <td>0</td>\n    </tr>\n    <tr>\n      <th>2</th>\n      <td>-73.982738</td>\n      <td>40.761270</td>\n      <td>-73.991242</td>\n      <td>40.750562</td>\n      <td>2</td>\n      <td>1.389525</td>\n      <td>0</td>\n      <td>0</td>\n      <td>1</td>\n      <td>0</td>\n      <td>0</td>\n      <td>0</td>\n      <td>0</td>\n      <td>0</td>\n      <td>0</td>\n      <td>0</td>\n      <td>0</td>\n      <td>0</td>\n      <td>0</td>\n      <td>0</td>\n      <td>0</td>\n      <td>0</td>\n      <td>0</td>\n      <td>1</td>\n      <td>0</td>\n      <td>0</td>\n      <td>0</td>\n      <td>0</td>\n      <td>0</td>\n      <td>0</td>\n      <td>0</td>\n      <td>0</td>\n      <td>0</td>\n      <td>0</td>\n      <td>1</td>\n      <td>0</td>\n      <td>0</td>\n      <td>0</td>\n      <td>0</td>\n      <td>0</td>\n      <td>...</td>\n      <td>0</td>\n      <td>0</td>\n      <td>0</td>\n      <td>0</td>\n      <td>0</td>\n      <td>0</td>\n      <td>0</td>\n      <td>0</td>\n      <td>0</td>\n      <td>1</td>\n      <td>0</td>\n      <td>0</td>\n      <td>0</td>\n      <td>0</td>\n      <td>0</td>\n      <td>0</td>\n      <td>0</td>\n      <td>0</td>\n      <td>0</td>\n      <td>0</td>\n      <td>0</td>\n      <td>0</td>\n      <td>0</td>\n      <td>0</td>\n      <td>0</td>\n      <td>0</td>\n      <td>0</td>\n      <td>0</td>\n      <td>0</td>\n      <td>0</td>\n      <td>0</td>\n      <td>0</td>\n      <td>0</td>\n      <td>0</td>\n      <td>0</td>\n      <td>0</td>\n      <td>1</td>\n      <td>0</td>\n      <td>0</td>\n      <td>0</td>\n    </tr>\n    <tr>\n      <th>3</th>\n      <td>-73.987130</td>\n      <td>40.733143</td>\n      <td>-73.991567</td>\n      <td>40.758092</td>\n      <td>1</td>\n      <td>2.799270</td>\n      <td>0</td>\n      <td>0</td>\n      <td>0</td>\n      <td>1</td>\n      <td>0</td>\n      <td>0</td>\n      <td>0</td>\n      <td>0</td>\n      <td>0</td>\n      <td>0</td>\n      <td>0</td>\n      <td>0</td>\n      <td>0</td>\n      <td>1</td>\n      <td>0</td>\n      <td>0</td>\n      <td>0</td>\n      <td>0</td>\n      <td>0</td>\n      <td>0</td>\n      <td>0</td>\n      <td>0</td>\n      <td>0</td>\n      <td>0</td>\n      <td>0</td>\n      <td>0</td>\n      <td>0</td>\n      <td>0</td>\n      <td>0</td>\n      <td>0</td>\n      <td>0</td>\n      <td>0</td>\n      <td>1</td>\n      <td>0</td>\n      <td>...</td>\n      <td>0</td>\n      <td>0</td>\n      <td>0</td>\n      <td>0</td>\n      <td>0</td>\n      <td>0</td>\n      <td>0</td>\n      <td>0</td>\n      <td>0</td>\n      <td>0</td>\n      <td>0</td>\n      <td>0</td>\n      <td>0</td>\n      <td>0</td>\n      <td>0</td>\n      <td>0</td>\n      <td>0</td>\n      <td>0</td>\n      <td>0</td>\n      <td>0</td>\n      <td>0</td>\n      <td>0</td>\n      <td>0</td>\n      <td>0</td>\n      <td>0</td>\n      <td>0</td>\n      <td>0</td>\n      <td>1</td>\n      <td>0</td>\n      <td>0</td>\n      <td>0</td>\n      <td>0</td>\n      <td>0</td>\n      <td>0</td>\n      <td>0</td>\n      <td>0</td>\n      <td>0</td>\n      <td>0</td>\n      <td>1</td>\n      <td>0</td>\n    </tr>\n    <tr>\n      <th>4</th>\n      <td>-73.968095</td>\n      <td>40.768008</td>\n      <td>-73.956655</td>\n      <td>40.783762</td>\n      <td>1</td>\n      <td>1.999157</td>\n      <td>0</td>\n      <td>1</td>\n      <td>0</td>\n      <td>0</td>\n      <td>0</td>\n      <td>0</td>\n      <td>0</td>\n      <td>0</td>\n      <td>0</td>\n      <td>0</td>\n      <td>0</td>\n      <td>0</td>\n      <td>1</td>\n      <td>0</td>\n      <td>0</td>\n      <td>0</td>\n      <td>0</td>\n      <td>0</td>\n      <td>0</td>\n      <td>0</td>\n      <td>0</td>\n      <td>0</td>\n      <td>0</td>\n      <td>0</td>\n      <td>0</td>\n      <td>0</td>\n      <td>0</td>\n      <td>0</td>\n      <td>0</td>\n      <td>0</td>\n      <td>0</td>\n      <td>0</td>\n      <td>0</td>\n      <td>0</td>\n      <td>...</td>\n      <td>0</td>\n      <td>0</td>\n      <td>0</td>\n      <td>0</td>\n      <td>0</td>\n      <td>0</td>\n      <td>0</td>\n      <td>0</td>\n      <td>1</td>\n      <td>0</td>\n      <td>0</td>\n      <td>0</td>\n      <td>0</td>\n      <td>0</td>\n      <td>0</td>\n      <td>0</td>\n      <td>0</td>\n      <td>0</td>\n      <td>0</td>\n      <td>0</td>\n      <td>0</td>\n      <td>0</td>\n      <td>0</td>\n      <td>0</td>\n      <td>0</td>\n      <td>0</td>\n      <td>0</td>\n      <td>0</td>\n      <td>0</td>\n      <td>0</td>\n      <td>1</td>\n      <td>0</td>\n      <td>0</td>\n      <td>0</td>\n      <td>1</td>\n      <td>0</td>\n      <td>0</td>\n      <td>0</td>\n      <td>0</td>\n      <td>0</td>\n    </tr>\n  </tbody>\n</table>\n</div>"
          },
          "metadata": {}
        }
      ]
    },
    {
      "metadata": {
        "trusted": true,
        "_uuid": "62313c7e6b1c78c6d7fb8212f2dc0a8846f22403"
      },
      "cell_type": "code",
      "source": "from sklearn.preprocessing import MinMaxScaler\nmms = MinMaxScaler()\ntrain_test[['pickup_longitude','pickup_latitude','dropoff_longitude','dropoff_latitude','passenger_count','Distance']] = mms.fit_transform(train_test[['pickup_longitude','pickup_latitude','dropoff_longitude','dropoff_latitude','passenger_count','Distance']])\ntrain_test.head(5)",
      "execution_count": 23,
      "outputs": [
        {
          "output_type": "stream",
          "text": "/opt/conda/lib/python3.6/site-packages/sklearn/preprocessing/data.py:323: DataConversionWarning: Data with input dtype int64, float64 were all converted to float64 by MinMaxScaler.\n  return self.partial_fit(X, y)\n",
          "name": "stderr"
        },
        {
          "output_type": "execute_result",
          "execution_count": 23,
          "data": {
            "text/plain": "   pickup_longitude  pickup_latitude    ...      weekday_5  weekday_6\n0          0.516775         0.473398    ...              0          0\n1          0.495186         0.472117    ...              0          0\n2          0.499373         0.478508    ...              0          0\n3          0.498821         0.474911    ...              1          0\n4          0.501214         0.479370    ...              0          0\n\n[5 rows x 87 columns]",
            "text/html": "<div>\n<style scoped>\n    .dataframe tbody tr th:only-of-type {\n        vertical-align: middle;\n    }\n\n    .dataframe tbody tr th {\n        vertical-align: top;\n    }\n\n    .dataframe thead th {\n        text-align: right;\n    }\n</style>\n<table border=\"1\" class=\"dataframe\">\n  <thead>\n    <tr style=\"text-align: right;\">\n      <th></th>\n      <th>pickup_longitude</th>\n      <th>pickup_latitude</th>\n      <th>dropoff_longitude</th>\n      <th>dropoff_latitude</th>\n      <th>passenger_count</th>\n      <th>Distance</th>\n      <th>year_2009</th>\n      <th>year_2010</th>\n      <th>year_2011</th>\n      <th>year_2012</th>\n      <th>year_2013</th>\n      <th>year_2014</th>\n      <th>year_2015</th>\n      <th>month_1</th>\n      <th>month_10</th>\n      <th>month_11</th>\n      <th>month_12</th>\n      <th>month_2</th>\n      <th>month_3</th>\n      <th>month_4</th>\n      <th>month_5</th>\n      <th>month_6</th>\n      <th>month_7</th>\n      <th>month_8</th>\n      <th>month_9</th>\n      <th>day_1</th>\n      <th>day_10</th>\n      <th>day_11</th>\n      <th>day_12</th>\n      <th>day_13</th>\n      <th>day_14</th>\n      <th>day_15</th>\n      <th>day_16</th>\n      <th>day_17</th>\n      <th>day_18</th>\n      <th>day_19</th>\n      <th>day_2</th>\n      <th>day_20</th>\n      <th>day_21</th>\n      <th>day_22</th>\n      <th>...</th>\n      <th>day_3</th>\n      <th>day_30</th>\n      <th>day_31</th>\n      <th>day_4</th>\n      <th>day_5</th>\n      <th>day_6</th>\n      <th>day_7</th>\n      <th>day_8</th>\n      <th>day_9</th>\n      <th>hour_0</th>\n      <th>hour_1</th>\n      <th>hour_10</th>\n      <th>hour_11</th>\n      <th>hour_12</th>\n      <th>hour_13</th>\n      <th>hour_14</th>\n      <th>hour_15</th>\n      <th>hour_16</th>\n      <th>hour_17</th>\n      <th>hour_18</th>\n      <th>hour_19</th>\n      <th>hour_2</th>\n      <th>hour_20</th>\n      <th>hour_21</th>\n      <th>hour_22</th>\n      <th>hour_23</th>\n      <th>hour_3</th>\n      <th>hour_4</th>\n      <th>hour_5</th>\n      <th>hour_6</th>\n      <th>hour_7</th>\n      <th>hour_8</th>\n      <th>hour_9</th>\n      <th>weekday_0</th>\n      <th>weekday_1</th>\n      <th>weekday_2</th>\n      <th>weekday_3</th>\n      <th>weekday_4</th>\n      <th>weekday_5</th>\n      <th>weekday_6</th>\n    </tr>\n  </thead>\n  <tbody>\n    <tr>\n      <th>0</th>\n      <td>0.516775</td>\n      <td>0.473398</td>\n      <td>0.518193</td>\n      <td>0.471981</td>\n      <td>0.0</td>\n      <td>0.002268</td>\n      <td>1</td>\n      <td>0</td>\n      <td>0</td>\n      <td>0</td>\n      <td>0</td>\n      <td>0</td>\n      <td>0</td>\n      <td>0</td>\n      <td>0</td>\n      <td>0</td>\n      <td>0</td>\n      <td>0</td>\n      <td>0</td>\n      <td>0</td>\n      <td>0</td>\n      <td>1</td>\n      <td>0</td>\n      <td>0</td>\n      <td>0</td>\n      <td>0</td>\n      <td>0</td>\n      <td>0</td>\n      <td>0</td>\n      <td>0</td>\n      <td>0</td>\n      <td>1</td>\n      <td>0</td>\n      <td>0</td>\n      <td>0</td>\n      <td>0</td>\n      <td>0</td>\n      <td>0</td>\n      <td>0</td>\n      <td>0</td>\n      <td>...</td>\n      <td>0</td>\n      <td>0</td>\n      <td>0</td>\n      <td>0</td>\n      <td>0</td>\n      <td>0</td>\n      <td>0</td>\n      <td>0</td>\n      <td>0</td>\n      <td>0</td>\n      <td>0</td>\n      <td>0</td>\n      <td>0</td>\n      <td>0</td>\n      <td>0</td>\n      <td>0</td>\n      <td>0</td>\n      <td>0</td>\n      <td>1</td>\n      <td>0</td>\n      <td>0</td>\n      <td>0</td>\n      <td>0</td>\n      <td>0</td>\n      <td>0</td>\n      <td>0</td>\n      <td>0</td>\n      <td>0</td>\n      <td>0</td>\n      <td>0</td>\n      <td>0</td>\n      <td>0</td>\n      <td>0</td>\n      <td>1</td>\n      <td>0</td>\n      <td>0</td>\n      <td>0</td>\n      <td>0</td>\n      <td>0</td>\n      <td>0</td>\n    </tr>\n    <tr>\n      <th>1</th>\n      <td>0.495186</td>\n      <td>0.472117</td>\n      <td>0.500918</td>\n      <td>0.480879</td>\n      <td>0.0</td>\n      <td>0.018593</td>\n      <td>0</td>\n      <td>1</td>\n      <td>0</td>\n      <td>0</td>\n      <td>0</td>\n      <td>0</td>\n      <td>0</td>\n      <td>1</td>\n      <td>0</td>\n      <td>0</td>\n      <td>0</td>\n      <td>0</td>\n      <td>0</td>\n      <td>0</td>\n      <td>0</td>\n      <td>0</td>\n      <td>0</td>\n      <td>0</td>\n      <td>0</td>\n      <td>0</td>\n      <td>0</td>\n      <td>0</td>\n      <td>0</td>\n      <td>0</td>\n      <td>0</td>\n      <td>0</td>\n      <td>0</td>\n      <td>0</td>\n      <td>0</td>\n      <td>0</td>\n      <td>0</td>\n      <td>0</td>\n      <td>0</td>\n      <td>0</td>\n      <td>...</td>\n      <td>0</td>\n      <td>0</td>\n      <td>0</td>\n      <td>0</td>\n      <td>1</td>\n      <td>0</td>\n      <td>0</td>\n      <td>0</td>\n      <td>0</td>\n      <td>0</td>\n      <td>0</td>\n      <td>0</td>\n      <td>0</td>\n      <td>0</td>\n      <td>0</td>\n      <td>0</td>\n      <td>0</td>\n      <td>1</td>\n      <td>0</td>\n      <td>0</td>\n      <td>0</td>\n      <td>0</td>\n      <td>0</td>\n      <td>0</td>\n      <td>0</td>\n      <td>0</td>\n      <td>0</td>\n      <td>0</td>\n      <td>0</td>\n      <td>0</td>\n      <td>0</td>\n      <td>0</td>\n      <td>0</td>\n      <td>0</td>\n      <td>1</td>\n      <td>0</td>\n      <td>0</td>\n      <td>0</td>\n      <td>0</td>\n      <td>0</td>\n    </tr>\n    <tr>\n      <th>2</th>\n      <td>0.499373</td>\n      <td>0.478508</td>\n      <td>0.499415</td>\n      <td>0.476866</td>\n      <td>0.2</td>\n      <td>0.003057</td>\n      <td>0</td>\n      <td>0</td>\n      <td>1</td>\n      <td>0</td>\n      <td>0</td>\n      <td>0</td>\n      <td>0</td>\n      <td>0</td>\n      <td>0</td>\n      <td>0</td>\n      <td>0</td>\n      <td>0</td>\n      <td>0</td>\n      <td>0</td>\n      <td>0</td>\n      <td>0</td>\n      <td>0</td>\n      <td>1</td>\n      <td>0</td>\n      <td>0</td>\n      <td>0</td>\n      <td>0</td>\n      <td>0</td>\n      <td>0</td>\n      <td>0</td>\n      <td>0</td>\n      <td>0</td>\n      <td>0</td>\n      <td>1</td>\n      <td>0</td>\n      <td>0</td>\n      <td>0</td>\n      <td>0</td>\n      <td>0</td>\n      <td>...</td>\n      <td>0</td>\n      <td>0</td>\n      <td>0</td>\n      <td>0</td>\n      <td>0</td>\n      <td>0</td>\n      <td>0</td>\n      <td>0</td>\n      <td>0</td>\n      <td>1</td>\n      <td>0</td>\n      <td>0</td>\n      <td>0</td>\n      <td>0</td>\n      <td>0</td>\n      <td>0</td>\n      <td>0</td>\n      <td>0</td>\n      <td>0</td>\n      <td>0</td>\n      <td>0</td>\n      <td>0</td>\n      <td>0</td>\n      <td>0</td>\n      <td>0</td>\n      <td>0</td>\n      <td>0</td>\n      <td>0</td>\n      <td>0</td>\n      <td>0</td>\n      <td>0</td>\n      <td>0</td>\n      <td>0</td>\n      <td>0</td>\n      <td>0</td>\n      <td>0</td>\n      <td>1</td>\n      <td>0</td>\n      <td>0</td>\n      <td>0</td>\n    </tr>\n    <tr>\n      <th>3</th>\n      <td>0.498821</td>\n      <td>0.474911</td>\n      <td>0.499374</td>\n      <td>0.477827</td>\n      <td>0.0</td>\n      <td>0.006159</td>\n      <td>0</td>\n      <td>0</td>\n      <td>0</td>\n      <td>1</td>\n      <td>0</td>\n      <td>0</td>\n      <td>0</td>\n      <td>0</td>\n      <td>0</td>\n      <td>0</td>\n      <td>0</td>\n      <td>0</td>\n      <td>0</td>\n      <td>1</td>\n      <td>0</td>\n      <td>0</td>\n      <td>0</td>\n      <td>0</td>\n      <td>0</td>\n      <td>0</td>\n      <td>0</td>\n      <td>0</td>\n      <td>0</td>\n      <td>0</td>\n      <td>0</td>\n      <td>0</td>\n      <td>0</td>\n      <td>0</td>\n      <td>0</td>\n      <td>0</td>\n      <td>0</td>\n      <td>0</td>\n      <td>1</td>\n      <td>0</td>\n      <td>...</td>\n      <td>0</td>\n      <td>0</td>\n      <td>0</td>\n      <td>0</td>\n      <td>0</td>\n      <td>0</td>\n      <td>0</td>\n      <td>0</td>\n      <td>0</td>\n      <td>0</td>\n      <td>0</td>\n      <td>0</td>\n      <td>0</td>\n      <td>0</td>\n      <td>0</td>\n      <td>0</td>\n      <td>0</td>\n      <td>0</td>\n      <td>0</td>\n      <td>0</td>\n      <td>0</td>\n      <td>0</td>\n      <td>0</td>\n      <td>0</td>\n      <td>0</td>\n      <td>0</td>\n      <td>0</td>\n      <td>1</td>\n      <td>0</td>\n      <td>0</td>\n      <td>0</td>\n      <td>0</td>\n      <td>0</td>\n      <td>0</td>\n      <td>0</td>\n      <td>0</td>\n      <td>0</td>\n      <td>0</td>\n      <td>1</td>\n      <td>0</td>\n    </tr>\n    <tr>\n      <th>4</th>\n      <td>0.501214</td>\n      <td>0.479370</td>\n      <td>0.503755</td>\n      <td>0.481103</td>\n      <td>0.0</td>\n      <td>0.004399</td>\n      <td>0</td>\n      <td>1</td>\n      <td>0</td>\n      <td>0</td>\n      <td>0</td>\n      <td>0</td>\n      <td>0</td>\n      <td>0</td>\n      <td>0</td>\n      <td>0</td>\n      <td>0</td>\n      <td>0</td>\n      <td>1</td>\n      <td>0</td>\n      <td>0</td>\n      <td>0</td>\n      <td>0</td>\n      <td>0</td>\n      <td>0</td>\n      <td>0</td>\n      <td>0</td>\n      <td>0</td>\n      <td>0</td>\n      <td>0</td>\n      <td>0</td>\n      <td>0</td>\n      <td>0</td>\n      <td>0</td>\n      <td>0</td>\n      <td>0</td>\n      <td>0</td>\n      <td>0</td>\n      <td>0</td>\n      <td>0</td>\n      <td>...</td>\n      <td>0</td>\n      <td>0</td>\n      <td>0</td>\n      <td>0</td>\n      <td>0</td>\n      <td>0</td>\n      <td>0</td>\n      <td>0</td>\n      <td>1</td>\n      <td>0</td>\n      <td>0</td>\n      <td>0</td>\n      <td>0</td>\n      <td>0</td>\n      <td>0</td>\n      <td>0</td>\n      <td>0</td>\n      <td>0</td>\n      <td>0</td>\n      <td>0</td>\n      <td>0</td>\n      <td>0</td>\n      <td>0</td>\n      <td>0</td>\n      <td>0</td>\n      <td>0</td>\n      <td>0</td>\n      <td>0</td>\n      <td>0</td>\n      <td>0</td>\n      <td>1</td>\n      <td>0</td>\n      <td>0</td>\n      <td>0</td>\n      <td>1</td>\n      <td>0</td>\n      <td>0</td>\n      <td>0</td>\n      <td>0</td>\n      <td>0</td>\n    </tr>\n  </tbody>\n</table>\n</div>"
          },
          "metadata": {}
        }
      ]
    },
    {
      "metadata": {
        "_uuid": "dec6fba5826aaa6a49e71dacbbfda93ad240bcff"
      },
      "cell_type": "markdown",
      "source": "Finally, I used a very simple linear regression model to fit the training set and do the prediction. \nAfter training, we can see the R^2 is 0.591, which means a quite poor performance of a simple linear model. \nAnd when we submit this prediction, the RMSE on the test set is 5.49. Since this task is to predict the fare of a single taxi ride and the baseline price of \nNew York City taxi is 2.5. 5.49 is already a huge number in this task. So we need to use advanced model and try to achieve an improvement. "
    },
    {
      "metadata": {
        "trusted": true,
        "_uuid": "4ddefe09cc9c8930dac1a900c5bd51b89b50c03e"
      },
      "cell_type": "code",
      "source": "from sklearn.linear_model import LinearRegression\nclf=LinearRegression()\nclf.fit(x_train,y_train)\nprediction=clf.predict(x_test)\n\nprint(prediction)\nprint(clf.score(x_train,y_train))",
      "execution_count": 26,
      "outputs": [
        {
          "output_type": "stream",
          "text": "[11.0044151  11.33665072  6.82525851 ... 40.28048863 20.03345748\n  8.71223068]\n0.590952955299167\n",
          "name": "stdout"
        }
      ]
    },
    {
      "metadata": {
        "trusted": true,
        "_uuid": "9eab20deb591fa134d1e7905d7f6793243c7ad68"
      },
      "cell_type": "code",
      "source": "submission=pd.DataFrame()\nsubmission['key']=test_key\nsubmission['fare_amount']=prediction\nsubmission.to_csv(\"Baseline.csv\",index=False)\nsubmission.head(20)",
      "execution_count": 27,
      "outputs": [
        {
          "output_type": "execute_result",
          "execution_count": 27,
          "data": {
            "text/plain": "                            key  fare_amount\n0   2015-01-27 13:08:24.0000002    11.004415\n1   2015-01-27 13:08:24.0000003    11.336651\n2   2011-10-08 11:53:44.0000002     6.825259\n3   2012-12-01 21:12:12.0000002     9.053080\n4   2012-12-01 21:12:12.0000003    14.298385\n5   2012-12-01 21:12:12.0000005    11.865692\n6   2011-10-06 12:10:20.0000001     7.922546\n7   2011-10-06 12:10:20.0000003    45.469316\n8   2011-10-06 12:10:20.0000002    11.302556\n9   2014-02-18 15:22:20.0000002     8.453405\n10  2014-02-18 15:22:20.0000003    10.429691\n11  2014-02-18 15:22:20.0000001    13.784302\n12  2010-03-29 20:20:32.0000002     5.841465\n13  2010-03-29 20:20:32.0000001     6.720452\n14  2011-10-06 03:59:12.0000002     9.650386\n15  2011-10-06 03:59:12.0000001    13.434892\n16  2012-07-15 16:45:04.0000006     5.999129\n17  2012-07-15 16:45:04.0000002     9.556345\n18  2012-07-15 16:45:04.0000003     7.374975\n19  2012-07-15 16:45:04.0000004     7.017706",
            "text/html": "<div>\n<style scoped>\n    .dataframe tbody tr th:only-of-type {\n        vertical-align: middle;\n    }\n\n    .dataframe tbody tr th {\n        vertical-align: top;\n    }\n\n    .dataframe thead th {\n        text-align: right;\n    }\n</style>\n<table border=\"1\" class=\"dataframe\">\n  <thead>\n    <tr style=\"text-align: right;\">\n      <th></th>\n      <th>key</th>\n      <th>fare_amount</th>\n    </tr>\n  </thead>\n  <tbody>\n    <tr>\n      <th>0</th>\n      <td>2015-01-27 13:08:24.0000002</td>\n      <td>11.004415</td>\n    </tr>\n    <tr>\n      <th>1</th>\n      <td>2015-01-27 13:08:24.0000003</td>\n      <td>11.336651</td>\n    </tr>\n    <tr>\n      <th>2</th>\n      <td>2011-10-08 11:53:44.0000002</td>\n      <td>6.825259</td>\n    </tr>\n    <tr>\n      <th>3</th>\n      <td>2012-12-01 21:12:12.0000002</td>\n      <td>9.053080</td>\n    </tr>\n    <tr>\n      <th>4</th>\n      <td>2012-12-01 21:12:12.0000003</td>\n      <td>14.298385</td>\n    </tr>\n    <tr>\n      <th>5</th>\n      <td>2012-12-01 21:12:12.0000005</td>\n      <td>11.865692</td>\n    </tr>\n    <tr>\n      <th>6</th>\n      <td>2011-10-06 12:10:20.0000001</td>\n      <td>7.922546</td>\n    </tr>\n    <tr>\n      <th>7</th>\n      <td>2011-10-06 12:10:20.0000003</td>\n      <td>45.469316</td>\n    </tr>\n    <tr>\n      <th>8</th>\n      <td>2011-10-06 12:10:20.0000002</td>\n      <td>11.302556</td>\n    </tr>\n    <tr>\n      <th>9</th>\n      <td>2014-02-18 15:22:20.0000002</td>\n      <td>8.453405</td>\n    </tr>\n    <tr>\n      <th>10</th>\n      <td>2014-02-18 15:22:20.0000003</td>\n      <td>10.429691</td>\n    </tr>\n    <tr>\n      <th>11</th>\n      <td>2014-02-18 15:22:20.0000001</td>\n      <td>13.784302</td>\n    </tr>\n    <tr>\n      <th>12</th>\n      <td>2010-03-29 20:20:32.0000002</td>\n      <td>5.841465</td>\n    </tr>\n    <tr>\n      <th>13</th>\n      <td>2010-03-29 20:20:32.0000001</td>\n      <td>6.720452</td>\n    </tr>\n    <tr>\n      <th>14</th>\n      <td>2011-10-06 03:59:12.0000002</td>\n      <td>9.650386</td>\n    </tr>\n    <tr>\n      <th>15</th>\n      <td>2011-10-06 03:59:12.0000001</td>\n      <td>13.434892</td>\n    </tr>\n    <tr>\n      <th>16</th>\n      <td>2012-07-15 16:45:04.0000006</td>\n      <td>5.999129</td>\n    </tr>\n    <tr>\n      <th>17</th>\n      <td>2012-07-15 16:45:04.0000002</td>\n      <td>9.556345</td>\n    </tr>\n    <tr>\n      <th>18</th>\n      <td>2012-07-15 16:45:04.0000003</td>\n      <td>7.374975</td>\n    </tr>\n    <tr>\n      <th>19</th>\n      <td>2012-07-15 16:45:04.0000004</td>\n      <td>7.017706</td>\n    </tr>\n  </tbody>\n</table>\n</div>"
          },
          "metadata": {}
        }
      ]
    }
  ],
  "metadata": {
    "kernelspec": {
      "display_name": "Python 3",
      "language": "python",
      "name": "python3"
    },
    "language_info": {
      "name": "python",
      "version": "3.6.6",
      "mimetype": "text/x-python",
      "codemirror_mode": {
        "name": "ipython",
        "version": 3
      },
      "pygments_lexer": "ipython3",
      "nbconvert_exporter": "python",
      "file_extension": ".py"
    }
  },
  "nbformat": 4,
  "nbformat_minor": 1
}